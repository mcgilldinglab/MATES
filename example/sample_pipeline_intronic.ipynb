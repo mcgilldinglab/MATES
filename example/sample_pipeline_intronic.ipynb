{
 "cells": [
  {
   "cell_type": "markdown",
   "id": "73d605ff",
   "metadata": {},
   "source": [
    "#### Install MATES and required packages"
   ]
  },
  {
   "cell_type": "code",
   "execution_count": null,
   "id": "13926e3b-9d47-4fbb-98b6-558538c9079d",
   "metadata": {},
   "outputs": [
    {
     "name": "stderr",
     "output_type": "stream",
     "text": [
      "Cloning into 'MATES'...\n"
     ]
    }
   ],
   "source": [
    "%%bash\n",
    "# Clone the MATES repository\n",
    "git clone https://github.com/mcgilldinglab/MATES.git\n",
    "\n",
    "# Create a new environment\n",
    "conda create -n mates_env python=3.9\n",
    "conda activate mates_env\n",
    "\n",
    "# Install required packages\n",
    "conda install -c bioconda samtools -y\n",
    "conda install -c bioconda bedtools -y\n",
    "\n",
    "# Install MATES\n",
    "cd MATES\n",
    "pip install .\n",
    "pip install velocyto # Required for intronic analysis\n",
    "\n",
    "# Add environment to Jupyter Notebook\n",
    "conda install ipykernel\n",
    "python -m ipykernel install --user --name=mates_env"
   ]
  },
  {
   "cell_type": "code",
   "execution_count": 1,
   "id": "5c137676-d388-4782-ae07-7eb29739d4d2",
   "metadata": {},
   "outputs": [],
   "source": [
    "import warnings\n",
    "warnings.filterwarnings(\"ignore\")"
   ]
  },
  {
   "cell_type": "markdown",
   "id": "6d976a2d",
   "metadata": {},
   "source": [
    "**Download the sample data to the same folder of this notebook.**"
   ]
  },
  {
   "cell_type": "markdown",
   "id": "dd1aac61",
   "metadata": {},
   "source": [
    "#### Build TE reference (this may takes a few minutes)"
   ]
  },
  {
   "cell_type": "code",
   "execution_count": 3,
   "id": "592d8ee7-cbc9-496d-8882-9e7050ed897e",
   "metadata": {},
   "outputs": [
    {
     "name": "stdout",
     "output_type": "stream",
     "text": [
      "mm10.fa.out.gz already exists, skipping download and unzip.\n",
      "gencode.vM10.annotation.gtf.gz already exists, skipping download and unzip.\n"
     ]
    }
   ],
   "source": [
    "%%bash\n",
    "python ../build_reference.py --species Mouse --intronic True"
   ]
  },
  {
   "cell_type": "markdown",
   "id": "ad6a34b5-54cf-400a-ae68-541dc20796f2",
   "metadata": {},
   "source": [
    "#### Process aligned bam files"
   ]
  },
  {
   "cell_type": "code",
   "execution_count": 4,
   "id": "8246dc14-ed6a-43c8-b890-e49409bfd51b",
   "metadata": {},
   "outputs": [],
   "source": [
    "from MATES import bam_processor"
   ]
  },
  {
   "cell_type": "code",
   "execution_count": null,
   "id": "e8ba0cf9-598f-41e9-9ed3-493bd0df8360",
   "metadata": {},
   "outputs": [
    {
     "name": "stdout",
     "output_type": "stream",
     "text": [
      "Directory ./file_tmp created.\n",
      "Directory ./bam_tmp created.\n",
      "Directory ./bc_tmp created.\n",
      "Start splitting bam files into unique/multi reads sub-bam files ...\n",
      "Directory ./unique_read created.\n",
      "Directory ./multi_read created.\n",
      "Finish splitting bam files into unique reads and multi reads sub-bam files.\n",
      "Start splitting multi sub-bam based on cell barcodes...\n",
      "Finish splitting unique sub-bam.\n",
      "Finish splitting multi sub-bam.\n",
      "Directory ./file_tmp removed.\n",
      "Directory ./bam_tmp removed.\n",
      "Directory ./bc_tmp removed.\n"
     ]
    }
   ],
   "source": [
    "bam_processor.split_count_10X_data('exclusive', 'test_samplelist.txt', 'test_bam_path.txt',bc_ind = 'CR', bc_path_file='test_cb_path.txt',num_threads=2)"
   ]
  },
  {
   "cell_type": "markdown",
   "id": "ce9a45b2-a850-468f-a2cb-8cd458f0f8ae",
   "metadata": {},
   "source": [
    "#### Generate data for model"
   ]
  },
  {
   "cell_type": "code",
   "execution_count": 5,
   "id": "38c123d2-8aa6-442d-84e0-b8c38e64e5f8",
   "metadata": {},
   "outputs": [],
   "source": [
    "from MATES import data_processor"
   ]
  },
  {
   "cell_type": "code",
   "execution_count": null,
   "id": "30cde58a-4ce9-4b29-aa8e-c24274c5f2e4",
   "metadata": {},
   "outputs": [
    {
     "name": "stdout",
     "output_type": "stream",
     "text": [
      "Directory MU_Stats created.\n",
      "Start Calculating U/M region for cells in test...\n"
     ]
    },
    {
     "name": "stderr",
     "output_type": "stream",
     "text": [
      "100%|███████████████████████████████████████████| 50/50 [00:03<00:00, 12.75it/s]"
     ]
    },
    {
     "name": "stdout",
     "output_type": "stream",
     "text": [
      "Finish calculating U/M region for cells in test, finalizing...\n",
      "Finish finalizing U/M region information for test.\n"
     ]
    },
    {
     "name": "stderr",
     "output_type": "stream",
     "text": [
      "\n"
     ]
    }
   ],
   "source": [
    "data_processor.calculate_UM_region('exclusive', '10X', 'test_samplelist.txt', bin_size=5, proportion=80, ref_path = 'Default', bc_path_file='test_cb_path.txt')"
   ]
  },
  {
   "cell_type": "code",
   "execution_count": 7,
   "id": "316ff2bf-d2e1-4315-bf2d-e3001807b3ce",
   "metadata": {},
   "outputs": [
    {
     "name": "stdout",
     "output_type": "stream",
     "text": [
      "Start generating training sample for unqiue read TE in test...\n",
      "Finish analyse generating sample for unqiue read TE in test.\n",
      "Start generating training sample for multi read TE in test...\n",
      "Finish analyse generating sample for multi read TE in test.\n",
      "Finish Sample test\n"
     ]
    }
   ],
   "source": [
    "data_processor.generate_training_sample('10X', 'test_samplelist.txt', bin_size=5, proportion=80)"
   ]
  },
  {
   "cell_type": "code",
   "execution_count": 8,
   "id": "fd60b0c3-141f-4f46-810b-abf5a4e3d536",
   "metadata": {},
   "outputs": [
    {
     "name": "stdout",
     "output_type": "stream",
     "text": [
      "Directory MU_Stats created.\n",
      "Start analyse full prediciton data of multi read...\n"
     ]
    },
    {
     "name": "stderr",
     "output_type": "stream",
     "text": [
      "100%|███████████████████████████████████████████| 50/50 [00:15<00:00,  4.36it/s]"
     ]
    },
    {
     "name": "stdout",
     "output_type": "stream",
     "text": [
      "(11445, 3)\n"
     ]
    },
    {
     "name": "stderr",
     "output_type": "stream",
     "text": [
      "100%|███████████████████████████████████████████| 50/50 [00:15<00:00,  3.20it/s]"
     ]
    },
    {
     "name": "stdout",
     "output_type": "stream",
     "text": [
      "Finish analyse full prediciton data of multi read.\n",
      "Finish saving data for prediction.\n"
     ]
    },
    {
     "name": "stderr",
     "output_type": "stream",
     "text": [
      "\n"
     ]
    }
   ],
   "source": [
    "data_processor.generate_prediction_sample('exclusive', '10X', 'test_samplelist.txt', bin_size=5, proportion=80, ref_path = 'Default', bc_path_file='test_cb_path.txt')"
   ]
  },
  {
   "cell_type": "markdown",
   "id": "7a3a16dd-1fe7-42f9-b9d4-9a7b6aa36c11",
   "metadata": {},
   "source": [
    "#### Training and prediction"
   ]
  },
  {
   "cell_type": "code",
   "execution_count": 9,
   "id": "e88e4b01-040b-4278-9b72-63a930e7a64e",
   "metadata": {},
   "outputs": [],
   "source": [
    "from MATES import MATES_model"
   ]
  },
  {
   "cell_type": "code",
   "execution_count": null,
   "id": "8acd3eb3-83c6-47dd-a5f0-cdfb781bbfbf",
   "metadata": {},
   "outputs": [
    {
     "name": "stdout",
     "output_type": "stream",
     "text": [
      "Data Mode:  10X\n",
      "AE Settings:  Epoch:    150, Learning Rate: 0.000001\n",
      "MLP Settings: Epoch:    150, Learning Rate: 0.000001\n",
      "Batch Size:     36\n",
      "Searching Bin Size:      5\n",
      "Dominate Proportion:     80\n",
      "Loading training data for test...\n",
      "Training model for test...\n"
     ]
    },
    {
     "name": "stderr",
     "output_type": "stream",
     "text": [
      "100%|█████████████████████████████████████████| 150/150 [00:15<00:00,  9.97it/s]\n",
      "100%|█████████████████████████████████████████| 150/150 [00:07<00:00, 20.33it/s]\n"
     ]
    },
    {
     "name": "stdout",
     "output_type": "stream",
     "text": [
      "Finish training model for test.\n"
     ]
    },
    {
     "data": {
      "image/png": "[encoded data removed]",
      "text/plain": [
       "<Figure size 640x480 with 2 Axes>"
      ]
     },
     "metadata": {},
     "output_type": "display_data"
    }
   ],
   "source": [
    "MATES_model.train('10X', 'test_samplelist.txt', bin_size = 5, proportion = 80, BATCH_SIZE= 36, AE_LR = 1e-6, MLP_LR = 1e-6, AE_EPOCHS = 150, MLP_EPOCHS = 150,  DEVICE= 'cuda:0')"
   ]
  },
  {
   "cell_type": "code",
   "execution_count": null,
   "id": "806a1525-2c44-4cd6-b48f-7c50e934763b",
   "metadata": {},
   "outputs": [
    {
     "name": "stdout",
     "output_type": "stream",
     "text": [
      "start calculating\n"
     ]
    },
    {
     "name": "stderr",
     "output_type": "stream",
     "text": [
      " 92%|███████████████████████████████████████▍   | 11/12 [00:00<00:00, 56.71it/s]\n"
     ]
    },
    {
     "name": "stdout",
     "output_type": "stream",
     "text": [
      "Finish quantify Multi TE\n"
     ]
    }
   ],
   "source": [
    "MATES_model.prediction('exclusive', '10X', 'test_samplelist.txt', bin_size = 5, proportion = 80, AE_trained_epochs =150, MLP_trained_epochs=150,  DEVICE = 'cuda:0', ref_path = 'Default')"
   ]
  },
  {
   "cell_type": "markdown",
   "id": "7131ed7f-6bcb-43e0-8463-922bab27f7de",
   "metadata": {},
   "source": [
    "#### TE quantification"
   ]
  },
  {
   "cell_type": "code",
   "execution_count": 13,
   "id": "f90129c5-41cb-449e-b26b-eb2772fdac98",
   "metadata": {},
   "outputs": [],
   "source": [
    "from MATES import TE_quantifier"
   ]
  },
  {
   "cell_type": "code",
   "execution_count": 14,
   "id": "54799ed0-84a7-432f-8e38-4f3d1802d654",
   "metadata": {},
   "outputs": [
    {
     "name": "stderr",
     "output_type": "stream",
     "text": [
      " 98%|█████████▊| 49/50 [00:48<00:00,  1.32it/s]"
     ]
    },
    {
     "name": "stdout",
     "output_type": "stream",
     "text": [
      "Combining batchly quntified Unique TE MTX...\n",
      "Finish finalizing Unique TE MTX.\n"
     ]
    },
    {
     "name": "stderr",
     "output_type": "stream",
     "text": [
      "100%|██████████| 50/50 [00:49<00:00,  1.02it/s]\n"
     ]
    }
   ],
   "source": [
    "TE_quantifier.unique_TE_MTX('exclusive', '10X', 'test_samplelist.txt', 1, ref_path = 'Default', bc_path_file='test_cb_path.txt')"
   ]
  },
  {
   "cell_type": "code",
   "execution_count": 15,
   "id": "6c80682d-60bb-448b-8318-3e2a53bd1a45",
   "metadata": {},
   "outputs": [
    {
     "name": "stdout",
     "output_type": "stream",
     "text": [
      "Start create TE_MTX for test ...\n",
      "Finish create TE_MTX for  test\n"
     ]
    }
   ],
   "source": [
    "TE_quantifier.finalize_TE_MTX('10X', 'test_samplelist.txt')"
   ]
  },
  {
   "cell_type": "markdown",
   "id": "ea8e7494",
   "metadata": {},
   "source": [
    "#### Locus-level TE quantification"
   ]
  },
  {
   "cell_type": "code",
   "execution_count": null,
   "id": "54054b5b",
   "metadata": {},
   "outputs": [],
   "source": [
    "MATES_model.prediction_locus('exclusive', '10X', 'test_samplelist.txt', bin_size=5, proportion=80, AE_trained_epochs=150, MLP_trained_epochs=150,  DEVICE= 'cuda:0', ref_path = 'Default')"
   ]
  },
  {
   "cell_type": "code",
   "execution_count": 16,
   "id": "0803dbf1-7f63-4e26-b523-3d70ef97b6c5",
   "metadata": {},
   "outputs": [
    {
     "name": "stdout",
     "output_type": "stream",
     "text": [
      "Finish finalizing Unique TE MTX for test\n",
      "Finalizing locus expression matrix for test...\n",
      "Finis finalizing locus expression matrix for test.\n"
     ]
    }
   ],
   "source": [
    "TE_quantifier.quantify_locus_TE_MTX('exclusive', '10X', 'test_samplelist.txt')"
   ]
  },
  {
   "cell_type": "markdown",
   "id": "a3823ef5-85f6-44aa-8850-5527d26d1b05",
   "metadata": {
    "tags": []
   },
   "source": [
    "#### Quantify intronic TE"
   ]
  },
  {
   "cell_type": "code",
   "execution_count": 1,
   "id": "10d5103f-e783-4e62-8c06-b7d40669fab4",
   "metadata": {},
   "outputs": [],
   "source": [
    "from MATES import TE_quantifier_Intronic"
   ]
  },
  {
   "cell_type": "code",
   "execution_count": 2,
   "id": "65d528bb-fc3f-4e09-b670-4f8263e78682",
   "metadata": {},
   "outputs": [
    {
     "name": "stdout",
     "output_type": "stream",
     "text": [
      "Function parameters are valid. Proceeding with further implementation.\n",
      "Directory ./file_tmp created or already exists.\n",
      "Directory ./bam_tmp created or already exists.\n",
      "Directory ./bc_tmp created or already exists.\n",
      "Start running velocyto...\n",
      "velocyto is already installed.\n",
      "Directory test already exists.\n",
      "Start Running Velocyto for test\n",
      "/mnt/md0/ruohan/test2/MATES/example/test_cb.tsv\n",
      "/mnt/md0/ruohan/test2/MATES/example/sample_data/sorted_final_merged.bam\n"
     ]
    },
    {
     "name": "stderr",
     "output_type": "stream",
     "text": [
      "/mnt/md0/ruohan/anaconda3/lib/python3.9/site-packages/loompy/bus_file.py:68: NumbaDeprecationWarning: \u001b[1mThe 'nopython' keyword argument was not supplied to the 'numba.jit' decorator. The implicit default value for this argument is currently False, but it will be changed to True in Numba 0.59.0. See https://numba.readthedocs.io/en/stable/reference/deprecation.html#deprecation-of-object-mode-fall-back-behaviour-when-using-jit for details.\u001b[0m\n",
      "  def twobit_to_dna(twobit: int, size: int) -> str:\n",
      "/mnt/md0/ruohan/anaconda3/lib/python3.9/site-packages/loompy/bus_file.py:85: NumbaDeprecationWarning: \u001b[1mThe 'nopython' keyword argument was not supplied to the 'numba.jit' decorator. The implicit default value for this argument is currently False, but it will be changed to True in Numba 0.59.0. See https://numba.readthedocs.io/en/stable/reference/deprecation.html#deprecation-of-object-mode-fall-back-behaviour-when-using-jit for details.\u001b[0m\n",
      "  def dna_to_twobit(dna: str) -> int:\n",
      "/mnt/md0/ruohan/anaconda3/lib/python3.9/site-packages/loompy/bus_file.py:102: NumbaDeprecationWarning: \u001b[1mThe 'nopython' keyword argument was not supplied to the 'numba.jit' decorator. The implicit default value for this argument is currently False, but it will be changed to True in Numba 0.59.0. See https://numba.readthedocs.io/en/stable/reference/deprecation.html#deprecation-of-object-mode-fall-back-behaviour-when-using-jit for details.\u001b[0m\n",
      "  def twobit_1hamming(twobit: int, size: int) -> List[int]:\n",
      "[bam_sort_core] merging from 0 files and 16 in-memory blocks...\n",
      "[E::idx_find_and_load] Could not retrieve index file for '/mnt/md0/ruohan/test2/MATES/example/sample_data/cellsorted_sorted_final_merged.bam'\n"
     ]
    },
    {
     "name": "stdout",
     "output_type": "stream",
     "text": [
      "End Running Velocyto for test\n",
      "Finish running velocyto.\n",
      "Directory ./file_tmp removed.\n",
      "Directory ./bam_tmp removed.\n",
      "Directory ./bc_tmp removed.\n"
     ]
    }
   ],
   "source": [
    "#You can edit the path of gtf ('gencode.vM10.annotation.gtf') according to the location in your device\n",
    "TE_quantifier_Intronic.implement_velocyto('10X', 1, 'test_samplelist.txt',  'test_bam_path.txt', 'gencode.vM10.annotation.gtf', bc_path_file='test_cb_path.txt')"
   ]
  },
  {
   "cell_type": "code",
   "execution_count": 3,
   "id": "46ecfda9-016f-41d8-9a0d-efab71392049",
   "metadata": {},
   "outputs": [
    {
     "name": "stdout",
     "output_type": "stream",
     "text": [
      "Directory ./file_tmp created or already exists.\n",
      "Parsing output of velocyto for sample test\n"
     ]
    },
    {
     "name": "stderr",
     "output_type": "stream",
     "text": [
      "Processing batches:   0%|          | 0/1 [00:00<?, ?it/s]/mnt/md0/ruohan/anaconda3/lib/python3.9/site-packages/loompy/bus_file.py:68: NumbaDeprecationWarning: \u001b[1mThe 'nopython' keyword argument was not supplied to the 'numba.jit' decorator. The implicit default value for this argument is currently False, but it will be changed to True in Numba 0.59.0. See https://numba.readthedocs.io/en/stable/reference/deprecation.html#deprecation-of-object-mode-fall-back-behaviour-when-using-jit for details.\u001b[0m\n",
      "  def twobit_to_dna(twobit: int, size: int) -> str:\n",
      "/mnt/md0/ruohan/anaconda3/lib/python3.9/site-packages/loompy/bus_file.py:85: NumbaDeprecationWarning: \u001b[1mThe 'nopython' keyword argument was not supplied to the 'numba.jit' decorator. The implicit default value for this argument is currently False, but it will be changed to True in Numba 0.59.0. See https://numba.readthedocs.io/en/stable/reference/deprecation.html#deprecation-of-object-mode-fall-back-behaviour-when-using-jit for details.\u001b[0m\n",
      "  def dna_to_twobit(dna: str) -> int:\n",
      "/mnt/md0/ruohan/anaconda3/lib/python3.9/site-packages/loompy/bus_file.py:102: NumbaDeprecationWarning: \u001b[1mThe 'nopython' keyword argument was not supplied to the 'numba.jit' decorator. The implicit default value for this argument is currently False, but it will be changed to True in Numba 0.59.0. See https://numba.readthedocs.io/en/stable/reference/deprecation.html#deprecation-of-object-mode-fall-back-behaviour-when-using-jit for details.\u001b[0m\n",
      "  def twobit_1hamming(twobit: int, size: int) -> List[int]:\n",
      "Processing batches: 100%|██████████| 1/1 [02:08<00:00, 128.64s/it]\n"
     ]
    },
    {
     "name": "stdout",
     "output_type": "stream",
     "text": [
      "Directory ./file_tmp removed.\n"
     ]
    }
   ],
   "source": [
    "TE_quantifier_Intronic.parse_velocyto_output('10X', 1, 'test_samplelist.txt')"
   ]
  },
  {
   "cell_type": "code",
   "execution_count": 4,
   "id": "f623a704-63bc-4e02-aa07-4014712ef7b6",
   "metadata": {},
   "outputs": [
    {
     "name": "stdout",
     "output_type": "stream",
     "text": [
      "Start counting unspliced reads for test...\n"
     ]
    },
    {
     "name": "stderr",
     "output_type": "stream",
     "text": [
      "Processing pickle files: 100%|███████████████████| 1/1 [11:40<00:00, 700.15s/it]\n"
     ]
    },
    {
     "name": "stdout",
     "output_type": "stream",
     "text": [
      "Finished counting unspliced reads for test\n"
     ]
    }
   ],
   "source": [
    "TE_quantifier_Intronic.count_unspliced_reads('10X', 1, 'test_samplelist.txt')"
   ]
  },
  {
   "cell_type": "code",
   "execution_count": 5,
   "id": "fcad1c95-1cc4-4f53-9f91-7f0cac91a573",
   "metadata": {},
   "outputs": [
    {
     "name": "stdout",
     "output_type": "stream",
     "text": [
      "Directory ./tmp created or already exists.\n",
      "Directory ./count_coverage_intron created or already exists.\n",
      "python /mnt/md0/ruohan/anaconda3/envs/mates_env/lib/python3.9/site-packages/MATES/scripts/count_coverage_10X.py test {i} 11 ./test_cb.tsv ./TE_intron.csv intronic\n",
      "Finish batch 0:10/11 for sample test\n",
      "Finish batch 0:11/11 for sample test\n",
      "Finish batch 3:10/11 for sample test\n",
      "Finish batch 3:11/11 for sample test\n",
      "Finish batch 1:10/11 for sample test\n",
      "Finish batch 1:11/11 for sample test\n",
      "Finish batch 2:10/11 for sample test\n",
      "Finish batch 2:11/11 for sample test\n",
      "Directory ./tmp removed.\n"
     ]
    }
   ],
   "source": [
    "TE_quantifier_Intronic.count_intornic_coverage_vec('10X', 5, 'test_samplelist.txt', ref_path='Default', bc_path_file='test_cb_path.txt')"
   ]
  },
  {
   "cell_type": "code",
   "execution_count": 6,
   "id": "999316c4-6340-4812-86c6-19891a82d1f8",
   "metadata": {},
   "outputs": [
    {
     "name": "stdout",
     "output_type": "stream",
     "text": [
      "Start analyse full prediciton data of multi read...\n"
     ]
    },
    {
     "name": "stderr",
     "output_type": "stream",
     "text": [
      "  0%|                                                     | 0/1 [00:00<?, ?it/s]"
     ]
    },
    {
     "name": "stdout",
     "output_type": "stream",
     "text": [
      "(0,)\n"
     ]
    },
    {
     "name": "stderr",
     "output_type": "stream",
     "text": [
      "100%|█████████████████████████████████████████████| 1/1 [00:03<00:00,  3.24s/it]"
     ]
    },
    {
     "name": "stdout",
     "output_type": "stream",
     "text": [
      "Finish analyse full prediciton data of multi read.\n",
      "Finish saving data for prediction.\n"
     ]
    },
    {
     "name": "stderr",
     "output_type": "stream",
     "text": [
      "\n"
     ]
    }
   ],
   "source": [
    "TE_quantifier_Intronic.generate_prediction_sample('10X', 'test_samplelist.txt', bin_size=5, proportion=80, ref_path = 'Default', bc_path_file='test_cb_path.txt')"
   ]
  },
  {
   "cell_type": "code",
   "execution_count": 7,
   "id": "094f2415-0529-49c5-a27e-d838040708ae",
   "metadata": {},
   "outputs": [
    {
     "name": "stdout",
     "output_type": "stream",
     "text": [
      "Finish finalizing Unique TE MTX for test\n"
     ]
    }
   ],
   "source": [
    "TE_quantifier_Intronic.quantify_U_TE_MTX('10X', 'test_samplelist.txt')"
   ]
  },
  {
   "cell_type": "code",
   "execution_count": null,
   "id": "040d1b2b-b236-40c0-8bba-bffcb3932263",
   "metadata": {},
   "outputs": [],
   "source": [
    "TE_quantifier_Intronic.quantify_M_TE_MTX('10X', 'test_samplelist.txt', bin_size=5, proportion=80, AE_trained_epochs=150, MLP_trained_epochs=150,  DEVICE= 'cpu', ref_path = 'Default')\n"
   ]
  },
  {
   "cell_type": "code",
   "execution_count": null,
   "id": "ecb9c36f-d462-46db-bb1b-f59e43ba7d0b",
   "metadata": {},
   "outputs": [],
   "source": [
    "TE_quantifier_Intronic.correct_intronic_TE('10X', 'test_samplelist.txt', ref_path = 'Default')"
   ]
  }
 ],
 "metadata": {
  "kernelspec": {
   "display_name": "mates_env",
   "language": "python",
   "name": "mates_env"
  },
  "language_info": {
   "codemirror_mode": {
    "name": "ipython",
    "version": 3
   },
   "file_extension": ".py",
   "mimetype": "text/x-python",
   "name": "python",
   "nbconvert_exporter": "python",
   "pygments_lexer": "ipython3",
   "version": "3.9.15"
  }
 },
 "nbformat": 4,
 "nbformat_minor": 5
}
