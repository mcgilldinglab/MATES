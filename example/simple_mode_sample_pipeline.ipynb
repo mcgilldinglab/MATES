{
 "cells": [
  {
   "cell_type": "markdown",
   "id": "73d605ff",
   "metadata": {},
   "source": [
    "#### Install MATES and required packages"
   ]
  },
  {
   "cell_type": "code",
   "execution_count": null,
   "id": "13926e3b-9d47-4fbb-98b6-558538c9079d",
   "metadata": {},
   "outputs": [
    {
     "name": "stderr",
     "output_type": "stream",
     "text": [
      "Cloning into 'MATES'...\n"
     ]
    }
   ],
   "source": [
    "%%bash\n",
    "git clone https://github.com/mcgilldinglab/MATES.git\n",
    "conda create -n mates_env python=3.9\n",
    "conda activate mates_env\n",
    "conda install -c bioconda samtools\n",
    "pip install pysam\n",
    "conda install -c bioconda bedtools\n",
    "pip install pybedtools\n",
    "cd MATES\n",
    "pip install .\n",
    "\n",
    "conda install ipykernel\n",
    "python -m ipykernel install --user --name=mates_env"
   ]
  },
  {
   "cell_type": "code",
   "execution_count": 1,
   "id": "5c137676-d388-4782-ae07-7eb29739d4d2",
   "metadata": {},
   "outputs": [],
   "source": [
    "import warnings\n",
    "warnings.filterwarnings(\"ignore\")"
   ]
  },
  {
   "cell_type": "markdown",
   "id": "6d976a2d",
   "metadata": {},
   "source": [
    "**Download the sample data to the same folder of this notebook.**"
   ]
  },
  {
   "cell_type": "markdown",
   "id": "dd1aac61",
   "metadata": {},
   "source": [
    "#### Build TE reference (this may takes a few minutes)"
   ]
  },
  {
   "cell_type": "code",
   "execution_count": null,
   "id": "1233c0b0-64a2-43af-a6c9-1d5461bd8c12",
   "metadata": {},
   "outputs": [],
   "source": [
    "%%bash\n",
    "### Edit the path to build_reference.py according to where you place this notebook\n",
    "python ../build_reference.py --species Mouse"
   ]
  },
  {
   "cell_type": "markdown",
   "id": "ad6a34b5-54cf-400a-ae68-541dc20796f2",
   "metadata": {},
   "source": [
    "#### Run MATES"
   ]
  },
  {
   "cell_type": "code",
   "execution_count": 3,
   "id": "8246dc14-ed6a-43c8-b890-e49409bfd51b",
   "metadata": {},
   "outputs": [],
   "source": [
    "from MATES import MATES_pipeline\n",
    "mates = MATES_pipeline('exclusive', '10X', 'test_samplelist.txt', 'test_bam_path.txt', threads_num=5, bc_ind='CR', bc_path_file = 'test_cb_path.txt', ref_path = 'TE_nooverlap.csv')\n",
    "mates.preprocessing()\n",
    "mates.run()"
   ]
  },
  {
   "cell_type": "markdown",
   "id": "08e7bfae",
   "metadata": {},
   "source": [
    "#### APIs"
   ]
  },
  {
   "cell_type": "markdown",
   "id": "27d3d99e",
   "metadata": {},
   "source": [
    "MATES_pipeline(TE_mode, data_mode, sample_list_file, bam_path_file, bc_ind='CB', threads_num=1,bc_path_file=None, bin_size=5, proportion=80, cut_off=50,ref_path = 'Default')\n",
    "\n",
    "Initializes the MATES pipeline with the following parameters:\n",
    "\n",
    "- TE_mode: str\n",
    "    The mode of TE, either 'inclusive' or 'exclusive'.\n",
    "\n",
    "- data_mode: str\n",
    "    The mode of data format, either '10X' or 'Smart_seq'. '10X': one sample (.bam file) has multiple cells, 'Smart_seq':one sample (.bam file) has **only** one cell.\n",
    "\n",
    "- sample_list_file: str\n",
    "    The path to the sample list file. If mode is '10X', the file should contain the sample names. If mode is 'Smart_seq', the file should contain the cell names.\n",
    "\n",
    "- bam_path_file: str\n",
    "    The path to the file containing the paths to the .bam files. Each row in this file is the bam file directory for the corresponding row in sample_list_file.\n",
    "\n",
    "- bc_path_file: str\n",
    "    Only VALID for '10X' format. The path to the file containing the paths to the barcode files. Each row in this file is the barcode file directory for the corresponding row in sample_list_file.\n",
    "\n",
    "- bc_ind: str\n",
    "    Only VALID for '10X' format. The barcode field indicator in the bam file. Default is 'CB'.\n",
    "\n",
    "- threads_num: int\n",
    "    The number of threads to use for processing the bam files. Default is 1.\n",
    "\n",
    "- bin_size: int\n",
    "    The bin size for the coverage vector. Default is 5.\n",
    "\n",
    "- proportion: int\n",
    "    The proportion to determine the bins are unique-mapping or multi-mapping for training. Default is 80.\n",
    "\n",
    "- cut_off: int\n",
    "    The minimal number of TE reads of a TE sub-family to be considered as a informative in the dataset. Default is 50. \n",
    "\n",
    "- ref_path: str\n",
    "    The path to the TE reference file. Default is 'Default'. If 'Default', the reference file will be 'TE_nooverlap.csv' for 'exclusive' mode and 'TE_full.csv' for 'inclusive' mode."
   ]
  },
  {
   "cell_type": "markdown",
   "id": "81bc4c00",
   "metadata": {},
   "source": [
    "MATES_pipeline.preprocessing()\n",
    "\n",
    "Preprocesses the data for the MATES training and quantifying TEs."
   ]
  },
  {
   "cell_type": "markdown",
   "id": "aec25b43",
   "metadata": {},
   "source": [
    "MATES_pipeline.run(quantify_locus_TE=True,BATCH_SIZE=256, AE_LR=1e-6, MLP_LR=1e-6, AE_EPOCHS=150, MLP_EPOCHS=150, DEVICE='cpu')\n",
    "\n",
    "Runs the MATES pipeline and quantify sub_family level TEs. Also quanitfy locus_level TE by default.\n",
    "\n",
    "- quantify_locus_TE: bool\n",
    "    If True, quantifies the TE loci. Quantify locus_level TE need more running time and computation resource. Default is True.\n",
    "\n",
    "- BATCH_SIZE: int\n",
    "    The batch size for training the model. Default is 256.\n",
    "\n",
    "- AE_LR: float\n",
    "    The learning rate for training the autoencoder. Default is 1e-6.\n",
    "\n",
    "- MLP_LR: float\n",
    "    The learning rate for training the MLP. Default is 1e-6.\n",
    "\n",
    "- AE_EPOCHS: int\n",
    "    The number of epochs for training the autoencoder. Default is 150.\n",
    "\n",
    "- MLP_EPOCHS: int\n",
    "    The number of epochs for training the MLP. Default is 150.\n",
    "\n",
    "- DEVICE: str\n",
    "    The device to use for training the model. Default is 'cpu'."
   ]
  },
  {
   "cell_type": "markdown",
   "id": "3ac245e4",
   "metadata": {},
   "source": []
  }
 ],
 "metadata": {
  "kernelspec": {
   "display_name": "mates",
   "language": "python",
   "name": "python3"
  },
  "language_info": {
   "codemirror_mode": {
    "name": "ipython",
    "version": 3
   },
   "file_extension": ".py",
   "mimetype": "text/x-python",
   "name": "python",
   "nbconvert_exporter": "python",
   "pygments_lexer": "ipython3",
   "version": "3.10.15"
  }
 },
 "nbformat": 4,
 "nbformat_minor": 5
}
