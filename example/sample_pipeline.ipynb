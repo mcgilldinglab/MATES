{
 "cells": [
  {
   "cell_type": "markdown",
   "id": "73d605ff",
   "metadata": {},
   "source": [
    "#### Install MATES and required packages"
   ]
  },
  {
   "cell_type": "code",
   "execution_count": null,
   "id": "13926e3b-9d47-4fbb-98b6-558538c9079d",
   "metadata": {},
   "outputs": [
    {
     "name": "stderr",
     "output_type": "stream",
     "text": [
      "Cloning into 'MATES'...\n"
     ]
    }
   ],
   "source": [
    "%%bash\n",
    "git clone https://github.com/mcgilldinglab/MATES.git\n",
    "conda create -n mates_env python=3.9\n",
    "conda activate mates_env\n",
    "conda install -c bioconda samtools\n",
    "pip install pysam\n",
    "conda install -c bioconda bedtools\n",
    "pip install pybedtools\n",
    "cd MATES\n",
    "pip install .\n",
    "\n",
    "conda install ipykernel\n",
    "python -m ipykernel install --user --name=mates_env"
   ]
  },
  {
   "cell_type": "code",
   "execution_count": 1,
   "id": "5c137676-d388-4782-ae07-7eb29739d4d2",
   "metadata": {},
   "outputs": [],
   "source": [
    "import warnings\n",
    "warnings.filterwarnings(\"ignore\")"
   ]
  },
  {
   "cell_type": "markdown",
   "id": "6d976a2d",
   "metadata": {},
   "source": [
    "**Download the sample data to the same folder of this notebook.**"
   ]
  },
  {
   "cell_type": "markdown",
   "id": "dd1aac61",
   "metadata": {},
   "source": [
    "#### Build TE reference (this may takes a few minutes)"
   ]
  },
  {
   "cell_type": "code",
   "execution_count": null,
   "id": "1233c0b0-64a2-43af-a6c9-1d5461bd8c12",
   "metadata": {},
   "outputs": [],
   "source": [
    "%%bash\n",
    "### Edit the path to build_reference.py according to where you place this notebook\n",
    "python ../build_reference.py --species Mouse"
   ]
  },
  {
   "cell_type": "markdown",
   "id": "ad6a34b5-54cf-400a-ae68-541dc20796f2",
   "metadata": {},
   "source": [
    "#### Process aligned bam files"
   ]
  },
  {
   "cell_type": "code",
   "execution_count": 3,
   "id": "8246dc14-ed6a-43c8-b890-e49409bfd51b",
   "metadata": {},
   "outputs": [],
   "source": [
    "from MATES import bam_processor"
   ]
  },
  {
   "cell_type": "code",
   "execution_count": null,
   "id": "e8ba0cf9-598f-41e9-9ed3-493bd0df8360",
   "metadata": {},
   "outputs": [],
   "source": [
    "bam_processor.split_count_10X_data('exclusive', 'test_samplelist.txt', 'test_bam_path.txt','test_cb_path.txt',bc_ind = 'CR', ref_path = 'TE_nooverlap.bed',num_threads=2)"
   ]
  },
  {
   "cell_type": "markdown",
   "id": "ce9a45b2-a850-468f-a2cb-8cd458f0f8ae",
   "metadata": {},
   "source": [
    "#### Generate data for model"
   ]
  },
  {
   "cell_type": "code",
   "execution_count": 6,
   "id": "38c123d2-8aa6-442d-84e0-b8c38e64e5f8",
   "metadata": {},
   "outputs": [],
   "source": [
    "from MATES import data_processor"
   ]
  },
  {
   "cell_type": "code",
   "execution_count": 7,
   "id": "30cde58a-4ce9-4b29-aa8e-c24274c5f2e4",
   "metadata": {},
   "outputs": [
    {
     "name": "stdout",
     "output_type": "stream",
     "text": [
      "Directory MU_Stats created.\n",
      "Start Calculating U/M region for cells in test...\n"
     ]
    },
    {
     "name": "stderr",
     "output_type": "stream",
     "text": [
      "100%|███████████████████████████████████████████| 50/50 [00:03<00:00, 13.16it/s]"
     ]
    },
    {
     "name": "stdout",
     "output_type": "stream",
     "text": [
      "Finish calculating U/M region for cells in test, finalizing...\n",
      "Finish finalizing U/M region information for test.\n"
     ]
    },
    {
     "name": "stderr",
     "output_type": "stream",
     "text": [
      "\n"
     ]
    }
   ],
   "source": [
    "data_processor.calculate_UM_region('exclusive', '10X', 'test_samplelist.txt', bin_size=5, proportion=80, ref_path = 'Default', bc_path_file='test_cb_path.txt')"
   ]
  },
  {
   "cell_type": "code",
   "execution_count": 8,
   "id": "316ff2bf-d2e1-4315-bf2d-e3001807b3ce",
   "metadata": {},
   "outputs": [
    {
     "name": "stdout",
     "output_type": "stream",
     "text": [
      "Start generating training sample for unqiue read TE in test...\n",
      "Finish analyse generating sample for unqiue read TE in test.\n",
      "Start generating training sample for multi read TE in test...\n",
      "Finish analyse generating sample for multi read TE in test.\n",
      "Finish Sample test\n"
     ]
    }
   ],
   "source": [
    "data_processor.generate_training_sample('10X', 'test_samplelist.txt', bin_size=5, proportion=80)"
   ]
  },
  {
   "cell_type": "code",
   "execution_count": 9,
   "id": "fd60b0c3-141f-4f46-810b-abf5a4e3d536",
   "metadata": {},
   "outputs": [
    {
     "name": "stdout",
     "output_type": "stream",
     "text": [
      "Directory MU_Stats created.\n",
      "Start analyse full prediciton data of multi read...\n"
     ]
    },
    {
     "name": "stderr",
     "output_type": "stream",
     "text": [
      "100%|███████████████████████████████████████████| 50/50 [00:15<00:00,  4.21it/s]"
     ]
    },
    {
     "name": "stdout",
     "output_type": "stream",
     "text": [
      "(11445, 3)\n"
     ]
    },
    {
     "name": "stderr",
     "output_type": "stream",
     "text": [
      "100%|███████████████████████████████████████████| 50/50 [00:16<00:00,  3.08it/s]"
     ]
    },
    {
     "name": "stdout",
     "output_type": "stream",
     "text": [
      "Finish analyse full prediciton data of multi read.\n",
      "Finish saving data for prediction.\n"
     ]
    },
    {
     "name": "stderr",
     "output_type": "stream",
     "text": [
      "\n"
     ]
    }
   ],
   "source": [
    "data_processor.generate_prediction_sample('exclusive', '10X', 'test_samplelist.txt', bin_size=5, proportion=80, ref_path = 'Default', bc_path_file='test_cb_path.txt')"
   ]
  },
  {
   "cell_type": "markdown",
   "id": "7a3a16dd-1fe7-42f9-b9d4-9a7b6aa36c11",
   "metadata": {},
   "source": [
    "#### Training and prediction"
   ]
  },
  {
   "cell_type": "code",
   "execution_count": 1,
   "id": "e88e4b01-040b-4278-9b72-63a930e7a64e",
   "metadata": {},
   "outputs": [],
   "source": [
    "from MATES import MATES_model"
   ]
  },
  {
   "cell_type": "code",
   "execution_count": null,
   "id": "8acd3eb3-83c6-47dd-a5f0-cdfb781bbfbf",
   "metadata": {},
   "outputs": [
    {
     "name": "stdout",
     "output_type": "stream",
     "text": [
      "CUDA device 'cuda:0' is available.\n",
      "Data Mode:  10X\n",
      "AE Settings:  Epoch:    150, Learning Rate: 0.000001\n",
      "MLP Settings: Epoch:    150, Learning Rate: 0.000001\n",
      "Batch Size:     36\n",
      "Searching Bin Size:      5\n",
      "Dominate Proportion:     80\n",
      "Loading training data for test...\n",
      "Training model for test...\n"
     ]
    },
    {
     "name": "stderr",
     "output_type": "stream",
     "text": [
      "100%|█████████████████████████████████████████| 150/150 [00:13<00:00, 11.32it/s]\n",
      "100%|█████████████████████████████████████████| 150/150 [00:06<00:00, 23.06it/s]\n"
     ]
    },
    {
     "name": "stdout",
     "output_type": "stream",
     "text": [
      "Finish training model for test.\n"
     ]
    },
    {
     "data": {
      "image/png": "[encoded data removed]",
      "text/plain": [
       "<Figure size 640x480 with 2 Axes>"
      ]
     },
     "metadata": {},
     "output_type": "display_data"
    }
   ],
   "source": [
    "MATES_model.train('10X', 'test_samplelist.txt', bin_size = 5, proportion = 80, BATCH_SIZE= 256, AE_LR = 1e-6, MLP_LR = 1e-6, AE_EPOCHS = 150, MLP_EPOCHS = 150, DEVICE= 'cuda:0')"
   ]
  },
  {
   "cell_type": "code",
   "execution_count": 7,
   "id": "806a1525-2c44-4cd6-b48f-7c50e934763b",
   "metadata": {},
   "outputs": [
    {
     "name": "stdout",
     "output_type": "stream",
     "text": [
      "CUDA device 'cuda:0' is available.\n",
      "start calculating\n"
     ]
    },
    {
     "name": "stderr",
     "output_type": "stream",
     "text": [
      " 92%|███████████████████████████████████████▍   | 11/12 [00:00<00:00, 54.53it/s]\n",
      "/mnt/md0/ruohan/anaconda3/envs/mates_env/lib/python3.9/site-packages/MATES/scripts/make_prediction.py:176: SettingWithCopyWarning: \n",
      "A value is trying to be set on a copy of a slice from a DataFrame.\n",
      "Try using .loc[row_indexer,col_indexer] = value instead\n",
      "\n",
      "See the caveats in the documentation: https://pandas.pydata.org/pandas-docs/stable/user_guide/indexing.html#returning-a-view-versus-a-copy\n",
      "  tmp['TE_index'] = tmp['TE_index'].astype(int)\n"
     ]
    },
    {
     "name": "stdout",
     "output_type": "stream",
     "text": [
      "Finish quantify Multi TE\n"
     ]
    }
   ],
   "source": [
    "MATES_model.prediction('exclusive', '10X', 'test_samplelist.txt', bin_size = 5, proportion = 80, AE_trained_epochs =150, MLP_trained_epochs=150, DEVICE= 'cuda:0', ref_path = 'Default')"
   ]
  },
  {
   "cell_type": "markdown",
   "id": "7131ed7f-6bcb-43e0-8463-922bab27f7de",
   "metadata": {},
   "source": [
    "#### TE quantification"
   ]
  },
  {
   "cell_type": "code",
   "execution_count": 9,
   "id": "f90129c5-41cb-449e-b26b-eb2772fdac98",
   "metadata": {},
   "outputs": [],
   "source": [
    "from MATES import TE_quantifier"
   ]
  },
  {
   "cell_type": "code",
   "execution_count": 10,
   "id": "54799ed0-84a7-432f-8e38-4f3d1802d654",
   "metadata": {},
   "outputs": [
    {
     "name": "stderr",
     "output_type": "stream",
     "text": [
      " 98%|█████████▊| 49/50 [00:48<00:00,  1.36it/s]"
     ]
    },
    {
     "name": "stdout",
     "output_type": "stream",
     "text": [
      "Combining batchly quntified Unique TE MTX...\n",
      "Finish finalizing Unique TE MTX.\n"
     ]
    },
    {
     "name": "stderr",
     "output_type": "stream",
     "text": [
      "100%|██████████| 50/50 [00:48<00:00,  1.02it/s]\n"
     ]
    }
   ],
   "source": [
    "TE_quantifier.unique_TE_MTX('exclusive', '10X', 'test_samplelist.txt', 1, ref_path = 'Default', bc_path_file='test_cb_path.txt')"
   ]
  },
  {
   "cell_type": "code",
   "execution_count": 11,
   "id": "6c80682d-60bb-448b-8318-3e2a53bd1a45",
   "metadata": {},
   "outputs": [
    {
     "name": "stdout",
     "output_type": "stream",
     "text": [
      "Start create TE_MTX for test ...\n",
      "Finish create TE_MTX for  test\n"
     ]
    }
   ],
   "source": [
    "TE_quantifier.finalize_TE_MTX('10X', 'test_samplelist.txt')"
   ]
  },
  {
   "cell_type": "markdown",
   "id": "115d4dcd",
   "metadata": {},
   "source": [
    "#### Locus-level TE quantification"
   ]
  },
  {
   "cell_type": "code",
   "execution_count": null,
   "id": "ff5b9b6d",
   "metadata": {},
   "outputs": [],
   "source": [
    "MATES_model.prediction_locus('exclusive', '10X', 'test_samplelist.txt', bin_size=5, proportion=80, AE_trained_epochs=150, MLP_trained_epochs=150, DEVICE= 'cuda:0', ref_path = 'Default')"
   ]
  },
  {
   "cell_type": "code",
   "execution_count": 12,
   "id": "0803dbf1-7f63-4e26-b523-3d70ef97b6c5",
   "metadata": {},
   "outputs": [
    {
     "name": "stdout",
     "output_type": "stream",
     "text": [
      "Finish finalizing Unique TE MTX for test\n",
      "Finalizing locus expression matrix for test...\n",
      "Finis finalizing locus expression matrix for test.\n"
     ]
    },
    {
     "name": "stderr",
     "output_type": "stream",
     "text": [
      "/mnt/md0/ruohan/anaconda3/envs/mates_env/lib/python3.9/site-packages/anndata/_core/aligned_df.py:67: ImplicitModificationWarning: Transforming to str index.\n",
      "  warnings.warn(\"Transforming to str index.\", ImplicitModificationWarning)\n",
      "/mnt/md0/ruohan/anaconda3/envs/mates_env/lib/python3.9/site-packages/anndata/_core/aligned_df.py:67: ImplicitModificationWarning: Transforming to str index.\n",
      "  warnings.warn(\"Transforming to str index.\", ImplicitModificationWarning)\n",
      "/mnt/md0/ruohan/anaconda3/envs/mates_env/lib/python3.9/site-packages/anndata/_core/aligned_df.py:67: ImplicitModificationWarning: Transforming to str index.\n",
      "  warnings.warn(\"Transforming to str index.\", ImplicitModificationWarning)\n",
      "/mnt/md0/ruohan/anaconda3/envs/mates_env/lib/python3.9/site-packages/anndata/_core/aligned_df.py:67: ImplicitModificationWarning: Transforming to str index.\n",
      "  warnings.warn(\"Transforming to str index.\", ImplicitModificationWarning)\n",
      "/mnt/md0/ruohan/anaconda3/envs/mates_env/lib/python3.9/site-packages/scipy/sparse/_index.py:134: SparseEfficiencyWarning: Changing the sparsity structure of a csc_matrix is expensive. lil_matrix is more efficient.\n",
      "  self._set_arrayXarray_sparse(i, j, x)\n"
     ]
    }
   ],
   "source": [
    "TE_quantifier.quantify_locus_TE_MTX('exclusive', '10X', 'test_samplelist.txt')"
   ]
  },
  {
   "cell_type": "code",
   "execution_count": null,
   "id": "3d4b7ea7-93e5-436c-b97c-264a2ba99449",
   "metadata": {},
   "outputs": [],
   "source": []
  }
 ],
 "metadata": {
  "kernelspec": {
   "display_name": "mates",
   "language": "python",
   "name": "python3"
  },
  "language_info": {
   "codemirror_mode": {
    "name": "ipython",
    "version": 3
   },
   "file_extension": ".py",
   "mimetype": "text/x-python",
   "name": "python",
   "nbconvert_exporter": "python",
   "pygments_lexer": "ipython3",
   "version": "3.10.15"
  }
 },
 "nbformat": 4,
 "nbformat_minor": 5
}
