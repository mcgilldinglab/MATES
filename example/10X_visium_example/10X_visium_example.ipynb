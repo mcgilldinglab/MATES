{
 "cells": [
  {
   "cell_type": "markdown",
   "metadata": {},
   "source": [
    "# Example pipeline and files to process 10X Visium data\n",
    "\n",
    "We used the [Adult Mouse Olfactory Bulb](https://www.10xgenomics.com/datasets/adult-mouse-olfactory-bulb-1-standard-1) dataset from 10X website as the example. This data has about 5000 cells and the whole run time of this example is about **1 hour** using our workstation (CPU AMD Ryzen Threadripper Pro 5965wx, only use CPU for training).  "
   ]
  },
  {
   "cell_type": "code",
   "execution_count": null,
   "metadata": {},
   "outputs": [],
   "source": [
    "# Download the bam file from 10X website\n",
    "!wget https://cf.10xgenomics.com/samples/spatial-exp/2.0.0/Visium_Mouse_Olfactory_Bulb/Visium_Mouse_Olfactory_Bulb_possorted_genome_bam.bam\n",
    "# Build the reference for this dataset\n",
    "!python ../../build_reference.py --species Mouse"
   ]
  },
  {
   "cell_type": "code",
   "execution_count": null,
   "metadata": {},
   "outputs": [],
   "source": [
    "# Run get_cb.py to extract all cell barcodes from the bam file\n",
    "# When it comes to your own data, you should change the directory of input bam file and output cell barcode file\n",
    "!python get_cb.py"
   ]
  },
  {
   "cell_type": "markdown",
   "metadata": {},
   "source": [
    "# Index the downloaded bam file."
   ]
  },
  {
   "cell_type": "code",
   "execution_count": null,
   "metadata": {},
   "outputs": [],
   "source": [
    "import pysam\n",
    "pysam.index(\"Visium_Mouse_Olfactory_Bulb_possorted_genome_bam.bam\")"
   ]
  },
  {
   "cell_type": "markdown",
   "metadata": {},
   "source": [
    "## Prepare your path_to_bam.txt, path_to_cb.txt and sample_list.txt files\n",
    "\n",
    "- sample_list.txt: The file contains sample names, each row represents a sample\n",
    "- path_to_bam.txt: The file contains the directory to each sample's bam file\n",
    "- path_to_cb.txt: The file contains the directory to each sample's cell barcode list.\n"
   ]
  },
  {
   "cell_type": "markdown",
   "metadata": {},
   "source": [
    "## Run MATES on the example 10X Visium data"
   ]
  },
  {
   "cell_type": "code",
   "execution_count": null,
   "metadata": {},
   "outputs": [],
   "source": [
    "from MATES import bam_processor,data_processor,MATES_model,TE_quantifier\n",
    "## Step1: Generate coverage vector\n",
    "bam_processor.split_count_10X_data('exclusive','sample_list.txt', 'path_to_bam.txt', 'path_to_cb.txt', bc_ind='CB', ref_path = 'TE_nooverlap.csv')\n",
    "\n",
    "## Step2: Generate the training and prediction sample\n",
    "data_processor.calculate_UM_region('exclusive', '10X', 'sample_list.txt', bin_size=5, proportion=80, bc_path_file='path_to_cb.txt',cut_off=50)\n",
    "data_processor.generate_training_sample('10X', 'sample_list.txt', bin_size=5, proportion=80,cut_off=50)\n",
    "data_processor.generate_prediction_sample('exclusive','10X','sample_list.txt', bin_size=5, proportion=80, ref_path=\"TE_nooverlap.csv\", bc_path_file='path_to_cb.txt',cut_off=50)\n",
    "\n",
    "\n",
    "## Step3:Training and prediction\n",
    "MATES_model.train('10X', 'sample_list.txt', bin_size = 5, proportion = 80, BATCH_SIZE= 256, \n",
    "                  AE_LR = 1e-4, MLP_LR = 1e-6, AE_EPOCHS = 2, MLP_EPOCHS = 2, DEVICE='cpu')\n",
    "MATES_model.prediction('exclusive', '10X', 'sample_list.txt', bin_size = 5, proportion = 80, \n",
    "                       AE_trained_epochs =2, MLP_trained_epochs=2,DEVICE='cpu')\n",
    "\n",
    "##Step4: Quantify the TE\n",
    "TE_quantifier.unique_TE_MTX('exclusive', '10X', 'sample_list.txt', 20, bc_path_file='path_to_cb.txt')\n",
    "TE_quantifier.finalize_TE_MTX('10X', 'sample_list.txt')"
   ]
  },
  {
   "cell_type": "code",
   "execution_count": null,
   "metadata": {},
   "outputs": [],
   "source": []
  }
 ],
 "metadata": {
  "kernelspec": {
   "display_name": "mates",
   "language": "python",
   "name": "python3"
  },
  "language_info": {
   "codemirror_mode": {
    "name": "ipython",
    "version": 3
   },
   "file_extension": ".py",
   "mimetype": "text/x-python",
   "name": "python",
   "nbconvert_exporter": "python",
   "pygments_lexer": "ipython3",
   "version": "3.10.15"
  }
 },
 "nbformat": 4,
 "nbformat_minor": 2
}
